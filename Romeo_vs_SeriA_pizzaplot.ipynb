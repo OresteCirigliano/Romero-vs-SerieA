{
  "nbformat": 4,
  "nbformat_minor": 0,
  "metadata": {
    "colab": {
      "name": "Romeo vs SeriA pizzaplot",
      "provenance": [],
      "collapsed_sections": []
    },
    "kernelspec": {
      "name": "python3",
      "display_name": "Python 3"
    },
    "language_info": {
      "name": "python"
    }
  },
  "cells": [
    {
      "cell_type": "code",
      "metadata": {
        "id": "zvUfvEnzPFWh"
      },
      "source": [
        "\n",
        "\n",
        "\n",
        "import pandas as pd\n",
        "import numpy as np\n",
        "\n",
        "from scipy import stats\n",
        "import math\n",
        "\n",
        "from mplsoccer import PyPizza, add_image, FontManager\n",
        "import matplotlib.pyplot as plt"
      ],
      "execution_count": null,
      "outputs": []
    },
    {
      "cell_type": "code",
      "metadata": {
        "id": "xo2MJ__QSQhl"
      },
      "source": [
        "#import csv of Serie A stats from fbref. I have uploaded the data but I changed the column names in the csv prior.\n",
        "df = pd.read_csv('/content/test2.csv')\n",
        "\n",
        "#when you first read in the csv from fbref, you'll notice the player names are kind of weird. This code splits them on the \\\n",
        "df['Player'] = df['Player'].str.split('\\\\',expand=True)[0]"
      ],
      "execution_count": null,
      "outputs": []
    },
    {
      "cell_type": "code",
      "metadata": {
        "id": "Csfe2mzlm_rg"
      },
      "source": [
        ""
      ],
      "execution_count": null,
      "outputs": []
    },
    {
      "cell_type": "code",
      "metadata": {
        "colab": {
          "base_uri": "https://localhost:8080/",
          "height": 324
        },
        "id": "xtDDeJNpS1Kn",
        "outputId": "6f21d3c7-fad9-43dd-ba8c-c3db6258a018"
      },
      "source": [
        "\n",
        "df.head()"
      ],
      "execution_count": null,
      "outputs": [
        {
          "output_type": "execute_result",
          "data": {
            "text/html": [
              "<div>\n",
              "<style scoped>\n",
              "    .dataframe tbody tr th:only-of-type {\n",
              "        vertical-align: middle;\n",
              "    }\n",
              "\n",
              "    .dataframe tbody tr th {\n",
              "        vertical-align: top;\n",
              "    }\n",
              "\n",
              "    .dataframe thead th {\n",
              "        text-align: right;\n",
              "    }\n",
              "</style>\n",
              "<table border=\"1\" class=\"dataframe\">\n",
              "  <thead>\n",
              "    <tr style=\"text-align: right;\">\n",
              "      <th></th>\n",
              "      <th>Rk</th>\n",
              "      <th>Player</th>\n",
              "      <th>Nation</th>\n",
              "      <th>Pos</th>\n",
              "      <th>Squad</th>\n",
              "      <th>Age</th>\n",
              "      <th>Born</th>\n",
              "      <th>90s</th>\n",
              "      <th>Tkl</th>\n",
              "      <th>TklW</th>\n",
              "      <th>Def 3rd</th>\n",
              "      <th>Mid 3rd</th>\n",
              "      <th>Att 3rd</th>\n",
              "      <th>Tkl_1</th>\n",
              "      <th>Att</th>\n",
              "      <th>Tkl%</th>\n",
              "      <th>Past</th>\n",
              "      <th>Press</th>\n",
              "      <th>Succ</th>\n",
              "      <th>%</th>\n",
              "      <th>Def 3rd_2</th>\n",
              "      <th>Mid 3rd_3</th>\n",
              "      <th>Att 3rd_4</th>\n",
              "      <th>Blocks</th>\n",
              "      <th>Sh</th>\n",
              "      <th>ShSv</th>\n",
              "      <th>Pass</th>\n",
              "      <th>Int</th>\n",
              "      <th>Tkl+Int</th>\n",
              "      <th>Clr</th>\n",
              "      <th>Err</th>\n",
              "      <th>Matches</th>\n",
              "    </tr>\n",
              "  </thead>\n",
              "  <tbody>\n",
              "    <tr>\n",
              "      <th>0</th>\n",
              "      <td>1.0</td>\n",
              "      <td>Gennaro Acampora</td>\n",
              "      <td>it ITA</td>\n",
              "      <td>MFFW</td>\n",
              "      <td>Spezia</td>\n",
              "      <td>26.0</td>\n",
              "      <td>1994.0</td>\n",
              "      <td>4.9</td>\n",
              "      <td>2.24</td>\n",
              "      <td>1.43</td>\n",
              "      <td>0.20</td>\n",
              "      <td>1.43</td>\n",
              "      <td>0.61</td>\n",
              "      <td>1.02</td>\n",
              "      <td>1.43</td>\n",
              "      <td>71.4</td>\n",
              "      <td>0.41</td>\n",
              "      <td>18.0</td>\n",
              "      <td>4.49</td>\n",
              "      <td>25.0</td>\n",
              "      <td>1.63</td>\n",
              "      <td>11.60</td>\n",
              "      <td>4.69</td>\n",
              "      <td>1.22</td>\n",
              "      <td>0.20</td>\n",
              "      <td>0.0</td>\n",
              "      <td>1.02</td>\n",
              "      <td>0.82</td>\n",
              "      <td>3.06</td>\n",
              "      <td>0.61</td>\n",
              "      <td>0.00</td>\n",
              "      <td>Matches</td>\n",
              "    </tr>\n",
              "    <tr>\n",
              "      <th>1</th>\n",
              "      <td>2.0</td>\n",
              "      <td>Francesco Acerbi</td>\n",
              "      <td>it ITA</td>\n",
              "      <td>DF</td>\n",
              "      <td>Lazio</td>\n",
              "      <td>32.0</td>\n",
              "      <td>1988.0</td>\n",
              "      <td>31.3</td>\n",
              "      <td>1.76</td>\n",
              "      <td>1.21</td>\n",
              "      <td>1.15</td>\n",
              "      <td>0.51</td>\n",
              "      <td>0.10</td>\n",
              "      <td>0.35</td>\n",
              "      <td>1.18</td>\n",
              "      <td>29.7</td>\n",
              "      <td>0.83</td>\n",
              "      <td>11.2</td>\n",
              "      <td>4.66</td>\n",
              "      <td>41.7</td>\n",
              "      <td>6.42</td>\n",
              "      <td>3.80</td>\n",
              "      <td>0.96</td>\n",
              "      <td>1.63</td>\n",
              "      <td>0.61</td>\n",
              "      <td>0.0</td>\n",
              "      <td>1.02</td>\n",
              "      <td>1.98</td>\n",
              "      <td>3.74</td>\n",
              "      <td>4.95</td>\n",
              "      <td>0.03</td>\n",
              "      <td>Matches</td>\n",
              "    </tr>\n",
              "    <tr>\n",
              "      <th>2</th>\n",
              "      <td>3.0</td>\n",
              "      <td>Andrea Adorante</td>\n",
              "      <td>it ITA</td>\n",
              "      <td>FW</td>\n",
              "      <td>Parma</td>\n",
              "      <td>20.0</td>\n",
              "      <td>2000.0</td>\n",
              "      <td>0.1</td>\n",
              "      <td>0.00</td>\n",
              "      <td>0.00</td>\n",
              "      <td>0.00</td>\n",
              "      <td>0.00</td>\n",
              "      <td>0.00</td>\n",
              "      <td>0.00</td>\n",
              "      <td>0.00</td>\n",
              "      <td>NaN</td>\n",
              "      <td>0.00</td>\n",
              "      <td>30.0</td>\n",
              "      <td>10.00</td>\n",
              "      <td>33.3</td>\n",
              "      <td>0.00</td>\n",
              "      <td>10.00</td>\n",
              "      <td>20.00</td>\n",
              "      <td>0.00</td>\n",
              "      <td>0.00</td>\n",
              "      <td>0.0</td>\n",
              "      <td>0.00</td>\n",
              "      <td>0.00</td>\n",
              "      <td>0.00</td>\n",
              "      <td>0.00</td>\n",
              "      <td>0.00</td>\n",
              "      <td>Matches</td>\n",
              "    </tr>\n",
              "    <tr>\n",
              "      <th>3</th>\n",
              "      <td>4.0</td>\n",
              "      <td>Lucien Agoume</td>\n",
              "      <td>fr FRA</td>\n",
              "      <td>MF</td>\n",
              "      <td>Spezia</td>\n",
              "      <td>18.0</td>\n",
              "      <td>2002.0</td>\n",
              "      <td>8.9</td>\n",
              "      <td>1.57</td>\n",
              "      <td>1.24</td>\n",
              "      <td>1.01</td>\n",
              "      <td>0.56</td>\n",
              "      <td>0.00</td>\n",
              "      <td>0.22</td>\n",
              "      <td>1.46</td>\n",
              "      <td>15.4</td>\n",
              "      <td>1.24</td>\n",
              "      <td>17.0</td>\n",
              "      <td>4.83</td>\n",
              "      <td>28.5</td>\n",
              "      <td>5.73</td>\n",
              "      <td>9.66</td>\n",
              "      <td>1.57</td>\n",
              "      <td>2.02</td>\n",
              "      <td>0.45</td>\n",
              "      <td>0.0</td>\n",
              "      <td>1.57</td>\n",
              "      <td>2.25</td>\n",
              "      <td>3.82</td>\n",
              "      <td>1.57</td>\n",
              "      <td>0.11</td>\n",
              "      <td>Matches</td>\n",
              "    </tr>\n",
              "    <tr>\n",
              "      <th>4</th>\n",
              "      <td>5.0</td>\n",
              "      <td>Kevin Agudelo</td>\n",
              "      <td>co COL</td>\n",
              "      <td>FW</td>\n",
              "      <td>Spezia</td>\n",
              "      <td>21.0</td>\n",
              "      <td>1998.0</td>\n",
              "      <td>15.1</td>\n",
              "      <td>3.31</td>\n",
              "      <td>1.99</td>\n",
              "      <td>0.79</td>\n",
              "      <td>1.66</td>\n",
              "      <td>0.86</td>\n",
              "      <td>0.66</td>\n",
              "      <td>2.32</td>\n",
              "      <td>28.6</td>\n",
              "      <td>1.66</td>\n",
              "      <td>23.6</td>\n",
              "      <td>6.62</td>\n",
              "      <td>28.1</td>\n",
              "      <td>4.24</td>\n",
              "      <td>9.93</td>\n",
              "      <td>9.40</td>\n",
              "      <td>1.99</td>\n",
              "      <td>0.00</td>\n",
              "      <td>0.0</td>\n",
              "      <td>1.99</td>\n",
              "      <td>0.33</td>\n",
              "      <td>3.64</td>\n",
              "      <td>0.46</td>\n",
              "      <td>0.00</td>\n",
              "      <td>Matches</td>\n",
              "    </tr>\n",
              "  </tbody>\n",
              "</table>\n",
              "</div>"
            ],
            "text/plain": [
              "    Rk            Player  Nation   Pos  ... Tkl+Int   Clr   Err  Matches\n",
              "0  1.0  Gennaro Acampora  it ITA  MFFW  ...    3.06  0.61  0.00  Matches\n",
              "1  2.0  Francesco Acerbi  it ITA    DF  ...    3.74  4.95  0.03  Matches\n",
              "2  3.0   Andrea Adorante  it ITA    FW  ...    0.00  0.00  0.00  Matches\n",
              "3  4.0     Lucien Agoume  fr FRA    MF  ...    3.82  1.57  0.11  Matches\n",
              "4  5.0     Kevin Agudelo  co COL    FW  ...    3.64  0.46  0.00  Matches\n",
              "\n",
              "[5 rows x 32 columns]"
            ]
          },
          "metadata": {},
          "execution_count": 160
        }
      ]
    },
    {
      "cell_type": "code",
      "metadata": {
        "colab": {
          "base_uri": "https://localhost:8080/"
        },
        "id": "uloXcRHvS7Bb",
        "outputId": "daa19af6-7650-45c3-be93-9da6b9d880e0"
      },
      "source": [
        "# only defenders and only those with more than 15 90's played \n",
        "#(This data is from about week 35 so 12 90s will help us eliminate most outliers)\n",
        "df = df.loc[(df['Pos']=='DF') & (df['90s']>15)]\n",
        "#recheck the dataframe\n",
        "df.columns"
      ],
      "execution_count": null,
      "outputs": [
        {
          "output_type": "execute_result",
          "data": {
            "text/plain": [
              "Index(['Rk', 'Player', 'Nation', 'Pos', 'Squad', 'Age', 'Born', '90s', 'Tkl',\n",
              "       'TklW', 'Def 3rd', 'Mid 3rd', 'Att 3rd', 'Tkl_1', 'Att', 'Tkl%', 'Past',\n",
              "       'Press', 'Succ', '%', 'Def 3rd_2', 'Mid 3rd_3', 'Att 3rd_4', 'Blocks',\n",
              "       'Sh', 'ShSv', 'Pass', 'Int', 'Tkl+Int', 'Clr', 'Err', 'Matches'],\n",
              "      dtype='object')"
            ]
          },
          "metadata": {},
          "execution_count": 161
        }
      ]
    },
    {
      "cell_type": "code",
      "metadata": {
        "id": "GsLYfXTgTA1q"
      },
      "source": [
        "\n",
        "# We now need to drop all of the columns that we don't want. \n",
        "# These are all the columns that won't be used included in the pizza plot\n",
        "# These are just the ones I need to drop you may need to drop more or less depending on what you want to compare\n",
        "df = df.drop([\"Rk\",'Nation','Pos','Squad','Age','Born','Matches', \"Tkl%\", '%'],axis=1).reset_index()"
      ],
      "execution_count": null,
      "outputs": []
    },
    {
      "cell_type": "code",
      "metadata": {
        "colab": {
          "base_uri": "https://localhost:8080/"
        },
        "id": "gtxQSjU7TStl",
        "outputId": "c875bdff-3193-4893-9657-62b603589ec4"
      },
      "source": [
        "df.isnull().values.any()"
      ],
      "execution_count": null,
      "outputs": [
        {
          "output_type": "execute_result",
          "data": {
            "text/plain": [
              "False"
            ]
          },
          "metadata": {},
          "execution_count": 163
        }
      ]
    },
    {
      "cell_type": "code",
      "metadata": {
        "colab": {
          "base_uri": "https://localhost:8080/",
          "height": 203
        },
        "id": "8k1uprFbTd4t",
        "outputId": "b1e51ff2-14a8-4815-acd7-bacf9e642464"
      },
      "source": [
        "df.head()\n"
      ],
      "execution_count": null,
      "outputs": [
        {
          "output_type": "execute_result",
          "data": {
            "text/html": [
              "<div>\n",
              "<style scoped>\n",
              "    .dataframe tbody tr th:only-of-type {\n",
              "        vertical-align: middle;\n",
              "    }\n",
              "\n",
              "    .dataframe tbody tr th {\n",
              "        vertical-align: top;\n",
              "    }\n",
              "\n",
              "    .dataframe thead th {\n",
              "        text-align: right;\n",
              "    }\n",
              "</style>\n",
              "<table border=\"1\" class=\"dataframe\">\n",
              "  <thead>\n",
              "    <tr style=\"text-align: right;\">\n",
              "      <th></th>\n",
              "      <th>index</th>\n",
              "      <th>Player</th>\n",
              "      <th>90s</th>\n",
              "      <th>Tkl</th>\n",
              "      <th>TklW</th>\n",
              "      <th>Def 3rd</th>\n",
              "      <th>Mid 3rd</th>\n",
              "      <th>Att 3rd</th>\n",
              "      <th>Tkl_1</th>\n",
              "      <th>Att</th>\n",
              "      <th>Past</th>\n",
              "      <th>Press</th>\n",
              "      <th>Succ</th>\n",
              "      <th>Def 3rd_2</th>\n",
              "      <th>Mid 3rd_3</th>\n",
              "      <th>Att 3rd_4</th>\n",
              "      <th>Blocks</th>\n",
              "      <th>Sh</th>\n",
              "      <th>ShSv</th>\n",
              "      <th>Pass</th>\n",
              "      <th>Int</th>\n",
              "      <th>Tkl+Int</th>\n",
              "      <th>Clr</th>\n",
              "      <th>Err</th>\n",
              "    </tr>\n",
              "  </thead>\n",
              "  <tbody>\n",
              "    <tr>\n",
              "      <th>0</th>\n",
              "      <td>1</td>\n",
              "      <td>Francesco Acerbi</td>\n",
              "      <td>31.3</td>\n",
              "      <td>1.76</td>\n",
              "      <td>1.21</td>\n",
              "      <td>1.15</td>\n",
              "      <td>0.51</td>\n",
              "      <td>0.10</td>\n",
              "      <td>0.35</td>\n",
              "      <td>1.18</td>\n",
              "      <td>0.83</td>\n",
              "      <td>11.20</td>\n",
              "      <td>4.66</td>\n",
              "      <td>6.42</td>\n",
              "      <td>3.80</td>\n",
              "      <td>0.96</td>\n",
              "      <td>1.63</td>\n",
              "      <td>0.61</td>\n",
              "      <td>0.0</td>\n",
              "      <td>1.02</td>\n",
              "      <td>1.98</td>\n",
              "      <td>3.74</td>\n",
              "      <td>4.95</td>\n",
              "      <td>0.03</td>\n",
              "    </tr>\n",
              "    <tr>\n",
              "      <th>1</th>\n",
              "      <td>7</td>\n",
              "      <td>Bruno Alves</td>\n",
              "      <td>18.1</td>\n",
              "      <td>0.88</td>\n",
              "      <td>0.33</td>\n",
              "      <td>0.55</td>\n",
              "      <td>0.33</td>\n",
              "      <td>0.00</td>\n",
              "      <td>0.44</td>\n",
              "      <td>0.72</td>\n",
              "      <td>0.28</td>\n",
              "      <td>7.73</td>\n",
              "      <td>2.04</td>\n",
              "      <td>5.08</td>\n",
              "      <td>2.38</td>\n",
              "      <td>0.28</td>\n",
              "      <td>1.55</td>\n",
              "      <td>0.77</td>\n",
              "      <td>0.0</td>\n",
              "      <td>0.77</td>\n",
              "      <td>0.83</td>\n",
              "      <td>1.71</td>\n",
              "      <td>4.81</td>\n",
              "      <td>0.00</td>\n",
              "    </tr>\n",
              "    <tr>\n",
              "      <th>2</th>\n",
              "      <td>14</td>\n",
              "      <td>Cristian Ansaldi</td>\n",
              "      <td>21.6</td>\n",
              "      <td>2.22</td>\n",
              "      <td>1.20</td>\n",
              "      <td>1.11</td>\n",
              "      <td>0.74</td>\n",
              "      <td>0.37</td>\n",
              "      <td>1.20</td>\n",
              "      <td>1.90</td>\n",
              "      <td>0.69</td>\n",
              "      <td>12.10</td>\n",
              "      <td>3.75</td>\n",
              "      <td>5.32</td>\n",
              "      <td>3.89</td>\n",
              "      <td>2.92</td>\n",
              "      <td>1.48</td>\n",
              "      <td>0.32</td>\n",
              "      <td>0.0</td>\n",
              "      <td>1.16</td>\n",
              "      <td>1.25</td>\n",
              "      <td>3.47</td>\n",
              "      <td>1.25</td>\n",
              "      <td>0.05</td>\n",
              "    </tr>\n",
              "    <tr>\n",
              "      <th>3</th>\n",
              "      <td>21</td>\n",
              "      <td>Tommaso Augello</td>\n",
              "      <td>35.7</td>\n",
              "      <td>1.40</td>\n",
              "      <td>0.70</td>\n",
              "      <td>0.98</td>\n",
              "      <td>0.34</td>\n",
              "      <td>0.08</td>\n",
              "      <td>0.56</td>\n",
              "      <td>1.12</td>\n",
              "      <td>0.56</td>\n",
              "      <td>9.58</td>\n",
              "      <td>3.33</td>\n",
              "      <td>4.57</td>\n",
              "      <td>3.00</td>\n",
              "      <td>2.02</td>\n",
              "      <td>1.43</td>\n",
              "      <td>0.06</td>\n",
              "      <td>0.0</td>\n",
              "      <td>1.37</td>\n",
              "      <td>1.09</td>\n",
              "      <td>2.49</td>\n",
              "      <td>2.49</td>\n",
              "      <td>0.03</td>\n",
              "    </tr>\n",
              "    <tr>\n",
              "      <th>4</th>\n",
              "      <td>30</td>\n",
              "      <td>Federico Barba</td>\n",
              "      <td>29.5</td>\n",
              "      <td>1.15</td>\n",
              "      <td>0.68</td>\n",
              "      <td>0.81</td>\n",
              "      <td>0.27</td>\n",
              "      <td>0.07</td>\n",
              "      <td>0.34</td>\n",
              "      <td>0.81</td>\n",
              "      <td>0.47</td>\n",
              "      <td>10.20</td>\n",
              "      <td>3.08</td>\n",
              "      <td>5.86</td>\n",
              "      <td>3.53</td>\n",
              "      <td>0.78</td>\n",
              "      <td>1.76</td>\n",
              "      <td>0.61</td>\n",
              "      <td>0.0</td>\n",
              "      <td>1.15</td>\n",
              "      <td>1.93</td>\n",
              "      <td>3.08</td>\n",
              "      <td>3.97</td>\n",
              "      <td>0.14</td>\n",
              "    </tr>\n",
              "  </tbody>\n",
              "</table>\n",
              "</div>"
            ],
            "text/plain": [
              "   index            Player   90s   Tkl  TklW  ...  Pass   Int  Tkl+Int   Clr   Err\n",
              "0      1  Francesco Acerbi  31.3  1.76  1.21  ...  1.02  1.98     3.74  4.95  0.03\n",
              "1      7       Bruno Alves  18.1  0.88  0.33  ...  0.77  0.83     1.71  4.81  0.00\n",
              "2     14  Cristian Ansaldi  21.6  2.22  1.20  ...  1.16  1.25     3.47  1.25  0.05\n",
              "3     21   Tommaso Augello  35.7  1.40  0.70  ...  1.37  1.09     2.49  2.49  0.03\n",
              "4     30    Federico Barba  29.5  1.15  0.68  ...  1.15  1.93     3.08  3.97  0.14\n",
              "\n",
              "[5 rows x 24 columns]"
            ]
          },
          "metadata": {},
          "execution_count": 164
        }
      ]
    },
    {
      "cell_type": "code",
      "metadata": {
        "colab": {
          "base_uri": "https://localhost:8080/"
        },
        "id": "AgoM13LQXqpY",
        "outputId": "51dae81a-aa7d-4f71-c12c-1f8750c3dab4"
      },
      "source": [
        "df.Player.unique()"
      ],
      "execution_count": null,
      "outputs": [
        {
          "output_type": "execute_result",
          "data": {
            "text/plain": [
              "array(['Francesco Acerbi', 'Bruno Alves', 'Cristian Ansaldi',\n",
              "       'Tommaso Augello', 'Federico Barba', 'Alessandro Bastoni',\n",
              "       'Simone Bastoni', 'Rodrigo BecÃ£o', 'Bartosz BereszyÅ„ski',\n",
              "       'Cristiano Biraghi', 'Kevin Bonifazi', 'Leonardo Bonucci',\n",
              "       'Gleison Bremer', 'MartÃ\\xadn CÃ¡ceres', 'Davide Calabria',\n",
              "       'Luca Caldirola', 'Federico Ceccherini', 'Luca Ceppitelli',\n",
              "       'Julian Chabot', 'Giorgio Chiellini', 'Vlad ChiricheÈ™',\n",
              "       'Omar Colley', 'Domenico Criscito', 'Danilo', 'PaweÅ‚ Dawidowicz',\n",
              "       'Lorenzo De Silvestri', 'Giovanni Di Lorenzo', 'Mitchell Dijks',\n",
              "       'Federico Dimarco', 'Koffi Djidji', 'Berat Djimsiti',\n",
              "       'Martin Erlic', 'Davide Faraoni', 'Riccardo Gagliolo',\n",
              "       'Kamil Glik', 'Diego GodÃ\\xadn', 'Edoardo Goldaniga',\n",
              "       'Vladimir GolemiÄ‡', 'Robin Gosens', 'Koray GÃ¼nter',\n",
              "       'Achraf Hakimi', 'Hans Hateboer', 'Theo HernÃ¡ndez',\n",
              "       'Elseid Hysaj', 'Roger Ibanez', 'Armando Izzo', 'Rick Karsdorp',\n",
              "       'Giorgos Kiriakopoulos', 'Simon KjÃ¦r', 'Kalidou Koulibaly',\n",
              "       'Marash Kumbulla', 'Danilo Larangeira', 'Darko LazoviÄ‡',\n",
              "       'Manuel Lazzari', 'Gaetano Letizia', 'Matthijs de Ligt',\n",
              "       'Matteo Lovato', 'JosÃ© Luis Palomino', 'Sebastiano Luperto',\n",
              "       'Lyanco', 'Charalambos Lykogiannis', 'Lisandro MagallÃ¡n',\n",
              "       'Giangiacomo Magnani', 'Gianluca Mancini', 'Kostas Manolas',\n",
              "       'Riccardo Marchizza', 'Gian Marco Ferrari', 'Marlon',\n",
              "       'Luca Marrone', 'Lucas MartÃ\\xadnez Quarta', 'Adam MaruÅ¡iÄ‡',\n",
              "       'Andrea Masiello', 'Nikola MilenkoviÄ‡', 'Nahuel Molina',\n",
              "       'Mert MÃ¼ldÃ¼r', 'Nicolas Nkoulou', 'Bram Nuytinck',\n",
              "       'Yordan Osorio', 'Patric', 'Pedro Pereira', 'Bruno Peres',\n",
              "       'GermÃ¡n Pezzella', 'Giuseppe Pezzella', 'È˜tefan Radu',\n",
              "       'Arkadiusz Reca', 'RogÃ©rio', 'Alessio Romagnoli',\n",
              "       'Cristian Romero', 'MÃ¡rio Rui', 'Alex Sandro', 'Samir Santos',\n",
              "       'Wilfried Singo', 'Milan Å\\xa0kriniar', 'Adama Soumaoro',\n",
              "       'Leonardo Spinazzola', 'Jens Stryger Larsen', 'Claudio Terzi',\n",
              "       'Jeremy Toljan', 'Rafael TolÃ³i', 'Takehiro Tomiyasu',\n",
              "       'Fikayo Tomori', 'Lorenzo Tonelli', 'Alessandro Tuia',\n",
              "       'Lorenzo Venuti', 'Luca Vignali', 'MÃ«rgim Vojvoda',\n",
              "       'Stefan de Vrij', 'Sebastian Walukiewicz', 'Maya Yoshida',\n",
              "       'Ashley Young', 'Gabriele Zappa', 'Davide Zappacosta',\n",
              "       'Marvin Zeegelaar'], dtype=object)"
            ]
          },
          "metadata": {},
          "execution_count": 165
        }
      ]
    },
    {
      "cell_type": "code",
      "metadata": {
        "colab": {
          "base_uri": "https://localhost:8080/"
        },
        "id": "zxC9-TNPTfOC",
        "outputId": "199cef75-6831-4ed0-c3c9-1106bc45c773"
      },
      "source": [
        "\n",
        "#Create a parameter list\n",
        "params = list(df.columns)\n",
        "params"
      ],
      "execution_count": null,
      "outputs": [
        {
          "output_type": "execute_result",
          "data": {
            "text/plain": [
              "['index',\n",
              " 'Player',\n",
              " '90s',\n",
              " 'Tkl',\n",
              " 'TklW',\n",
              " 'Def 3rd',\n",
              " 'Mid 3rd',\n",
              " 'Att 3rd',\n",
              " 'Tkl_1',\n",
              " 'Att',\n",
              " 'Past',\n",
              " 'Press',\n",
              " 'Succ',\n",
              " 'Def 3rd_2',\n",
              " 'Mid 3rd_3',\n",
              " 'Att 3rd_4',\n",
              " 'Blocks',\n",
              " 'Sh',\n",
              " 'ShSv',\n",
              " 'Pass',\n",
              " 'Int',\n",
              " 'Tkl+Int',\n",
              " 'Clr',\n",
              " 'Err']"
            ]
          },
          "metadata": {},
          "execution_count": 166
        }
      ]
    },
    {
      "cell_type": "code",
      "metadata": {
        "colab": {
          "base_uri": "https://localhost:8080/"
        },
        "id": "d-x24oI8UD73",
        "outputId": "c2bffe38-e897-4369-f4fe-2fd82819ea11"
      },
      "source": [
        "#drop the first 3 list item becuase we will not be using player,index, or 90s as a comparison metric\n",
        "params = params[2:]\n",
        "\n",
        "params"
      ],
      "execution_count": null,
      "outputs": [
        {
          "output_type": "execute_result",
          "data": {
            "text/plain": [
              "['90s',\n",
              " 'Tkl',\n",
              " 'TklW',\n",
              " 'Def 3rd',\n",
              " 'Mid 3rd',\n",
              " 'Att 3rd',\n",
              " 'Tkl_1',\n",
              " 'Att',\n",
              " 'Past',\n",
              " 'Press',\n",
              " 'Succ',\n",
              " 'Def 3rd_2',\n",
              " 'Mid 3rd_3',\n",
              " 'Att 3rd_4',\n",
              " 'Blocks',\n",
              " 'Sh',\n",
              " 'ShSv',\n",
              " 'Pass',\n",
              " 'Int',\n",
              " 'Tkl+Int',\n",
              " 'Clr',\n",
              " 'Err']"
            ]
          },
          "metadata": {},
          "execution_count": 167
        }
      ]
    },
    {
      "cell_type": "code",
      "metadata": {
        "colab": {
          "base_uri": "https://localhost:8080/"
        },
        "id": "rY5hNo9qUF0c",
        "outputId": "9deb1f27-9370-4ac9-a7bf-0caacb0a19cc"
      },
      "source": [
        "# Now we filter the df for the player we want. We will look at Cristian Romero. \n",
        "# The player needs to be spelled exactly the same way as it is in the data. Accents and everything.\n",
        "player = df.loc[df['Player']=='Cristian Romero'].reset_index()\n",
        "player = list(player.loc[0])\n",
        "player = player[3:]\n",
        "print(player)"
      ],
      "execution_count": null,
      "outputs": [
        {
          "output_type": "stream",
          "text": [
            "[28.3, 2.65, 1.63, 1.77, 0.78, 0.11, 0.39, 1.41, 1.02, 17.2, 6.11, 7.99, 8.34, 0.85, 1.84, 0.49, 0.0, 1.34, 2.86, 5.51, 5.23, 0.07]\n"
          ],
          "name": "stdout"
        }
      ]
    },
    {
      "cell_type": "code",
      "metadata": {
        "colab": {
          "base_uri": "https://localhost:8080/"
        },
        "id": "CrQ-HfUgl923",
        "outputId": "a3b83af0-0db0-47f8-f71d-90fd92c1fe03"
      },
      "source": [
        "player"
      ],
      "execution_count": null,
      "outputs": [
        {
          "output_type": "execute_result",
          "data": {
            "text/plain": [
              "[28.3,\n",
              " 2.65,\n",
              " 1.63,\n",
              " 1.77,\n",
              " 0.78,\n",
              " 0.11,\n",
              " 0.39,\n",
              " 1.41,\n",
              " 1.02,\n",
              " 17.2,\n",
              " 6.11,\n",
              " 7.99,\n",
              " 8.34,\n",
              " 0.85,\n",
              " 1.84,\n",
              " 0.49,\n",
              " 0.0,\n",
              " 1.34,\n",
              " 2.86,\n",
              " 5.51,\n",
              " 5.23,\n",
              " 0.07]"
            ]
          },
          "metadata": {},
          "execution_count": 170
        }
      ]
    },
    {
      "cell_type": "code",
      "metadata": {
        "colab": {
          "base_uri": "https://localhost:8080/"
        },
        "id": "stnSiNj2aYW6",
        "outputId": "270577a9-7ff1-41aa-cd9f-bf495745def5"
      },
      "source": [
        "print(len(player),print(len(params)))"
      ],
      "execution_count": null,
      "outputs": [
        {
          "output_type": "stream",
          "text": [
            "22\n",
            "22 None\n"
          ],
          "name": "stdout"
        }
      ]
    },
    {
      "cell_type": "code",
      "metadata": {
        "id": "g-coa0QYdObo"
      },
      "source": [
        "# now that we have the player scores, we need to calculate the percentile values with scipy stats.\n",
        "\n",
        "values = []\n",
        "for x in range(len(params)):   \n",
        "    values.append(math.floor(stats.percentileofscore(df[params[x]],player[x])))"
      ],
      "execution_count": null,
      "outputs": []
    },
    {
      "cell_type": "code",
      "metadata": {
        "colab": {
          "base_uri": "https://localhost:8080/"
        },
        "id": "gNM2vfbHdOee",
        "outputId": "6e6cc75e-c49d-416e-f249-85a51697d043"
      },
      "source": [
        "values"
      ],
      "execution_count": null,
      "outputs": [
        {
          "output_type": "execute_result",
          "data": {
            "text/plain": [
              "[72,\n",
              " 92,\n",
              " 94,\n",
              " 95,\n",
              " 87,\n",
              " 52,\n",
              " 22,\n",
              " 58,\n",
              " 82,\n",
              " 99,\n",
              " 100,\n",
              " 95,\n",
              " 100,\n",
              " 44,\n",
              " 65,\n",
              " 46,\n",
              " 39,\n",
              " 68,\n",
              " 99,\n",
              " 100,\n",
              " 84,\n",
              " 80]"
            ]
          },
          "metadata": {},
          "execution_count": 173
        }
      ]
    },
    {
      "cell_type": "code",
      "metadata": {
        "id": "p1EC3AzSdOmC"
      },
      "source": [
        "for n,i in enumerate(values):\n",
        "    if i == 100:\n",
        "        values[n] = 99"
      ],
      "execution_count": null,
      "outputs": []
    },
    {
      "cell_type": "code",
      "metadata": {
        "id": "1F4V8q3GaYfb"
      },
      "source": [
        "baker = PyPizza(\n",
        "    params=params,                  # list of parameters\n",
        "    straight_line_color=\"#000000\",  # color for straight lines\n",
        "    straight_line_lw=1,             # linewidth for straight lines\n",
        "    last_circle_lw=1,               # linewidth of last circle\n",
        "    other_circle_lw=1,              # linewidth for other circles\n",
        "    other_circle_ls=\"-.\"            # linestyle for other circles\n",
        ")"
      ],
      "execution_count": null,
      "outputs": []
    },
    {
      "cell_type": "code",
      "metadata": {
        "colab": {
          "base_uri": "https://localhost:8080/",
          "height": 603
        },
        "id": "cwptcrAgm_jj",
        "outputId": "a539ad6d-ddd6-455b-8cde-f8e05c96017f"
      },
      "source": [
        "fig, ax = baker.make_pizza(\n",
        "    values,              # list of values\n",
        "    figsize=(8, 8),      # adjust figsize according to your need\n",
        "    param_location=110,  # where the parameters will be added\n",
        "    kwargs_slices=dict(\n",
        "        facecolor=\"#6CABDD\", edgecolor=\"#000000\",\n",
        "        zorder=2, linewidth=1\n",
        "    ),                   # values to be used when plotting slices\n",
        "    kwargs_params=dict(\n",
        "        color=\"#000000\", fontsize=12,\n",
        "        va=\"center\", alpha=.5\n",
        "    ),                   # values to be used when adding parameter\n",
        "    kwargs_values=dict(\n",
        "        color=\"#000000\", fontsize=12,\n",
        "        zorder=3,\n",
        "        bbox=dict(\n",
        "            edgecolor=\"#000000\", facecolor=\"#6CABDD\",\n",
        "            boxstyle=\"round,pad=0.2\", lw=1\n",
        "        )\n",
        "    )                    # values to be used when adding parameter-values\n",
        ")\n",
        "\n",
        "# add title\n",
        "fig.text(\n",
        "    0.515, 0.97, \"Romero - Atalanta\", size=18,\n",
        "    ha=\"center\", color=\"#000000\"\n",
        ")\n",
        "\n",
        "# add subtitle\n",
        "fig.text(\n",
        "    0.515, 0.942,\n",
        "    \"Per 90 Percentile Rank vs Serie A Defenders | 2020-21\",\n",
        "    size=15,\n",
        "    ha=\"center\", color=\"#000000\"\n",
        ")\n",
        "\n",
        "# add credits\n",
        "notes = 'Players only with more than 12 90s'\n",
        "CREDIT_1 = \"data: statsbomb via fbref\"\n",
        "CREDIT_2= \"by Oreste Cirigliano\"\n",
        "\n",
        "fig.text(\n",
        "    0.99, 0.005, f\"{notes}\\n{CREDIT_1}\\n{CREDIT_2}\", size=9,\n",
        "    color=\"#000000\",\n",
        "    ha=\"right\"\n",
        ")\n",
        "\n",
        "plt.savefig('pizza.png',dpi=500,bbox_inches = 'tight')"
      ],
      "execution_count": null,
      "outputs": [
        {
          "output_type": "display_data",
          "data": {
            "image/png": "[encoded data removed]",
            "text/plain": [
              "<Figure size 576x576 with 1 Axes>"
            ]
          },
          "metadata": {}
        }
      ]
    },
    {
      "cell_type": "code",
      "metadata": {
        "id": "VZjM-TWtm_n4"
      },
      "source": [
        ""
      ],
      "execution_count": null,
      "outputs": []
    },
    {
      "cell_type": "code",
      "metadata": {
        "id": "L8AfF66Dm_ud"
      },
      "source": [
        ""
      ],
      "execution_count": null,
      "outputs": []
    },
    {
      "cell_type": "code",
      "metadata": {
        "id": "SWXkvFsZm_0S"
      },
      "source": [
        ""
      ],
      "execution_count": null,
      "outputs": []
    },
    {
      "cell_type": "code",
      "metadata": {
        "id": "dehxzzPNm_3P"
      },
      "source": [
        ""
      ],
      "execution_count": null,
      "outputs": []
    }
  ]
}